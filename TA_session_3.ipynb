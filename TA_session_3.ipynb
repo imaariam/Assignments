{
 "cells": [
  {
   "cell_type": "code",
   "execution_count": 1,
   "id": "c2e599c1",
   "metadata": {},
   "outputs": [],
   "source": [
    "inventory = {'pen':7,'pencil':10,'book':12 }"
   ]
  },
  {
   "cell_type": "code",
   "execution_count": null,
   "id": "1530dca3",
   "metadata": {},
   "outputs": [
    {
     "name": "stdout",
     "output_type": "stream",
     "text": [
      "\n",
      "Choose an option:\n",
      "1. View Inventory\n",
      "2. Add Item\n",
      "3. Remove Item\n",
      "4. Update Quantity\n",
      "5. Exit\n",
      ">4\n",
      "enter item name to update:pen \n",
      "enter new quantity : 14\n",
      "pen quantity has been updated to14.\n",
      "\n",
      "Choose an option:\n",
      "1. View Inventory\n",
      "2. Add Item\n",
      "3. Remove Item\n",
      "4. Update Quantity\n",
      "5. Exit\n",
      ">1\n",
      "\n",
      "current inventory\n",
      "pen:14\n",
      "pencil:10\n",
      "book:12\n",
      "\n",
      "Choose an option:\n",
      "1. View Inventory\n",
      "2. Add Item\n",
      "3. Remove Item\n",
      "4. Update Quantity\n",
      "5. Exit\n"
     ]
    }
   ],
   "source": [
    "while True:\n",
    "    print(\"\\nChoose an option:\")\n",
    "    print(\"1. View Inventory\")\n",
    "    print(\"2. Add Item\")\n",
    "    print(\"3. Remove Item\")\n",
    "    print(\"4. Update Quantity\")\n",
    "    print(\"5. Exit\")\n",
    "    \n",
    "    choice = input('>')\n",
    "    \n",
    "    if choice == \"1\" :\n",
    "        print(\"\\ncurrent inventory\")\n",
    "        for item,quantity in inventory.items():\n",
    "            print(f\"{item}:{quantity}\")\n",
    "                  \n",
    "    elif choice  == \"2\":\n",
    "        item = input (\"enter item name to add:\").strip().lower()\n",
    "        if item in inventory:\n",
    "                  print(f\"{item} already exists in the inventory.\")\n",
    "                \n",
    "        else:\n",
    "            try: \n",
    "                quantity = int(input(\"enter quantity:\"))\n",
    "                inventory[item] = quantity\n",
    "                print(f\"{item} has been added with quantity{quantity}.\")\n",
    "                \n",
    "            except ValueError:\n",
    "                print(\"invalid input! quantity must be a number\")\n",
    "                \n",
    "    elif choice ==\"3\":\n",
    "        item = input (\"enter item name to remove:\").strip().lower()\n",
    "        if item in inventory:\n",
    "            del inventory[item]\n",
    "            print(f\"{item}has been removed from the inventory.\")\n",
    "        else:\n",
    "            print(f\"{item} does not exist in the inventory\")\n",
    "    \n",
    "    elif choice ==\"4\": #Update = add element\n",
    "        item = input (\"enter item name to update:\").strip().lower()\n",
    "        \n",
    "        if item in inventory:\n",
    "            try:\n",
    "                quantity = int(input(\"enter new quantity : \")) \n",
    "                inventory[item] = quantity\n",
    "                print(f\"{item} quantity has been updated to{quantity}.\")\n",
    "            except ValueError:\n",
    "                print(\"invalid input! quantity must be a number\")\n",
    "        else:\n",
    "            print(f\"{item} does not exist in the inventory.\")\n",
    "                \n",
    "                  \n",
    "                  \n",
    "    elif choice ==\"5\":\n",
    "        print(\"exit the program\")\n",
    "\n",
    "break"
   ]
  },
  {
   "cell_type": "code",
   "execution_count": null,
   "id": "1ac807ea",
   "metadata": {},
   "outputs": [],
   "source": []
  },
  {
   "cell_type": "code",
   "execution_count": null,
   "id": "147152ba",
   "metadata": {},
   "outputs": [],
   "source": []
  },
  {
   "cell_type": "code",
   "execution_count": null,
   "id": "51183fba",
   "metadata": {},
   "outputs": [],
   "source": []
  }
 ],
 "metadata": {
  "kernelspec": {
   "display_name": "Python 3 (ipykernel)",
   "language": "python",
   "name": "python3"
  },
  "language_info": {
   "codemirror_mode": {
    "name": "ipython",
    "version": 3
   },
   "file_extension": ".py",
   "mimetype": "text/x-python",
   "name": "python",
   "nbconvert_exporter": "python",
   "pygments_lexer": "ipython3",
   "version": "3.11.5"
  }
 },
 "nbformat": 4,
 "nbformat_minor": 5
}
